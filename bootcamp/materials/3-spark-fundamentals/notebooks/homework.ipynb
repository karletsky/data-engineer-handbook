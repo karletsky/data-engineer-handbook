{
 "cells": [
  {
   "cell_type": "code",
   "execution_count": 93,
   "id": "81cca085-dba2-42eb-a13b-fa64b6e86583",
   "metadata": {},
   "outputs": [],
   "source": [
    "from pyspark.sql import SparkSession\n",
    "from pyspark.sql import functions as f\n",
    "spark = SparkSession.builder.appName(\"Jupyter\").getOrCreate() #Spark is a JVM lib so we have camel case instead of snake case\n",
    "spark.conf.set(\"spark.sql.autoBroadcastJoinThreshold\", \"-1\")\n",
    "# Load matches\n",
    "matches = spark.read.option(\n",
    "    \"header\", \"true\"\n",
    ").csv(\n",
    "    \"/home/iceberg/data/matches.csv\"\n",
    ").select(\n",
    "    'match_id',\n",
    "    'is_team_game',\n",
    "    'playlist_id',\n",
    "    'mapid',\n",
    "    'completion_date'\n",
    ")\n",
    "\n"
   ]
  },
  {
   "cell_type": "code",
   "execution_count": 94,
   "id": "956fe12a-f9cb-4792-83f5-f91ba763cd6b",
   "metadata": {},
   "outputs": [
    {
     "data": {
      "text/html": [
       "<style>pre { white-space: pre !important; }</style>"
      ],
      "text/plain": [
       "<IPython.core.display.HTML object>"
      ]
     },
     "metadata": {},
     "output_type": "display_data"
    }
   ],
   "source": [
    "from IPython.core.display import HTML\n",
    "display(HTML(\"<style>pre { white-space: pre !important; }</style>\"))"
   ]
  },
  {
   "cell_type": "code",
   "execution_count": 95,
   "id": "91595bd3-fbeb-44b5-bbb3-20a1de4f6ee9",
   "metadata": {},
   "outputs": [
    {
     "data": {
      "text/plain": [
       "DataFrame[]"
      ]
     },
     "execution_count": 95,
     "metadata": {},
     "output_type": "execute_result"
    }
   ],
   "source": [
    "# Bucketed matches\n",
    "spark.sql(\"\"\"DROP TABLE IF EXISTS bootcamp.hw2_matches_bucketed\"\"\")\n",
    "ddl_query_matches = \"\"\"\n",
    "CREATE TABLE IF NOT EXISTS bootcamp.hw2_matches_bucketed (\n",
    "     match_id STRING,\n",
    "     is_team_game BOOLEAN,\n",
    "     playlist_id STRING,\n",
    "     mapid STRING,\n",
    "     completion_date TIMESTAMP\n",
    " )\n",
    " USING iceberg\n",
    " PARTITIONED BY (bucket(16, match_id));\n",
    "\"\"\"\n",
    "spark.sql(ddl_query_matches)"
   ]
  },
  {
   "cell_type": "code",
   "execution_count": 96,
   "id": "213485a1-2686-4647-b360-ae9dffee02bd",
   "metadata": {},
   "outputs": [],
   "source": [
    "matches = matches.withColumn(\n",
    "    'is_team_game',\n",
    "    f.when(f.col('is_team_game')=='true',True).otherwise(False)\n",
    ")"
   ]
  },
  {
   "cell_type": "code",
   "execution_count": 97,
   "id": "820b68a0-e658-4bbb-b611-481a3de70b43",
   "metadata": {},
   "outputs": [],
   "source": [
    "matches = matches.withColumn(\n",
    "    'completion_date',\n",
    "    f.to_timestamp(\"completion_date\", \"yyyy-MM-dd HH:mm:ss.SSSSSS\")\n",
    ")"
   ]
  },
  {
   "cell_type": "code",
   "execution_count": 98,
   "id": "7d883bc9-9dd2-4a7b-aaaf-3d1a90323f1f",
   "metadata": {},
   "outputs": [],
   "source": [
    "matches = matches.sortWithinPartitions(f.col(\"completion_date\"), f.col(\"playlist_id\"), f.col('mapid')) # Lowest cardinality to the right"
   ]
  },
  {
   "cell_type": "code",
   "execution_count": 99,
   "id": "49b954a6-dd32-4c70-9375-ea6893c15815",
   "metadata": {},
   "outputs": [
    {
     "name": "stderr",
     "output_type": "stream",
     "text": [
      "                                                                                \r"
     ]
    }
   ],
   "source": [
    "matches.write.mode(\n",
    "    'overwrite'\n",
    ").bucketBy(\n",
    "    16,\n",
    "    'match_id'\n",
    ").saveAsTable('bootcamp.hw2_matches_bucketed')"
   ]
  },
  {
   "cell_type": "code",
   "execution_count": 100,
   "id": "f02f50f3-1b48-439a-b3ad-2ca02f526e62",
   "metadata": {},
   "outputs": [],
   "source": [
    "df_files = spark.sql(\"\"\"\n",
    "    SELECT * FROM bootcamp.hw2_matches_bucketed.files\n",
    "\"\"\")\n",
    "    "
   ]
  },
  {
   "cell_type": "code",
   "execution_count": 85,
   "id": "e55cdeed-3459-4d4f-bed2-5513c2082b68",
   "metadata": {},
   "outputs": [
    {
     "name": "stdout",
     "output_type": "stream",
     "text": [
      "+-----------------------+\n",
      "|sum(file_size_in_bytes)|\n",
      "+-----------------------+\n",
      "|                 606498|\n",
      "+-----------------------+\n",
      "\n"
     ]
    }
   ],
   "source": [
    "# df_files.select(f.sum('file_size_in_bytes')).alias('sum').show() # Before was 606498"
   ]
  },
  {
   "cell_type": "code",
   "execution_count": 101,
   "id": "b403d1b4-3816-42a7-bc1f-603429784c0c",
   "metadata": {},
   "outputs": [
    {
     "name": "stdout",
     "output_type": "stream",
     "text": [
      "+-----------------------+\n",
      "|sum(file_size_in_bytes)|\n",
      "+-----------------------+\n",
      "|                 591839|\n",
      "+-----------------------+\n",
      "\n"
     ]
    }
   ],
   "source": [
    "df_files.select(f.sum('file_size_in_bytes')).alias('sum').show() "
   ]
  },
  {
   "cell_type": "code",
   "execution_count": 44,
   "id": "a953b36e-2f81-4e5a-86e2-79fd6634d6c4",
   "metadata": {},
   "outputs": [
    {
     "data": {
      "text/plain": [
       "DataFrame[match_id: string, is_team_game: boolean, playlist_id: string, mapid: string, completion_date: timestamp]"
      ]
     },
     "execution_count": 44,
     "metadata": {},
     "output_type": "execute_result"
    }
   ],
   "source": [
    "matches.unpersist()"
   ]
  },
  {
   "cell_type": "code",
   "execution_count": 45,
   "id": "8b952736-c2b5-42c2-ae8c-5822feeb2103",
   "metadata": {},
   "outputs": [],
   "source": [
    "# Load match_details\n",
    "match_details = spark.read.option(\n",
    "    \"header\", \"true\"\n",
    ").csv(\n",
    "    \"/home/iceberg/data/match_details.csv\"\n",
    ").select(\n",
    "    'match_id',\n",
    "    'player_gamertag',\n",
    "    'player_total_kills',\n",
    "    'player_total_deaths'\n",
    ")"
   ]
  },
  {
   "cell_type": "code",
   "execution_count": 46,
   "id": "a86300f3-e5f2-4944-90c6-173de8845acc",
   "metadata": {},
   "outputs": [
    {
     "data": {
      "text/plain": [
       "DataFrame[]"
      ]
     },
     "execution_count": 46,
     "metadata": {},
     "output_type": "execute_result"
    }
   ],
   "source": [
    "# Bucketed match_details\n",
    "spark.sql(\"\"\"DROP TABLE IF EXISTS bootcamp.hw2_match_details_bucketed\"\"\")\n",
    "ddl_query_match_details = \"\"\"\n",
    "CREATE TABLE IF NOT EXISTS bootcamp.hw2_match_details_bucketed (\n",
    "    match_id STRING,\n",
    "    player_gamertag STRING,\n",
    "    player_total_kills INTEGER,\n",
    "    player_total_deaths INTEGER\n",
    ")\n",
    "USING iceberg\n",
    "PARTITIONED BY (bucket(16, match_id));\n",
    "\"\"\"\n",
    "spark.sql(ddl_query_match_details)"
   ]
  },
  {
   "cell_type": "code",
   "execution_count": 47,
   "id": "983987eb-ce50-4c12-a79c-c83853a55452",
   "metadata": {},
   "outputs": [
    {
     "name": "stderr",
     "output_type": "stream",
     "text": [
      "                                                                                \r"
     ]
    }
   ],
   "source": [
    "match_details.write.mode(\n",
    "    'overwrite'\n",
    ").bucketBy(\n",
    "    16,\n",
    "    'match_id'\n",
    ").saveAsTable('bootcamp.hw2_match_details_bucketed')"
   ]
  },
  {
   "cell_type": "code",
   "execution_count": 48,
   "id": "23fb2353-67f9-4324-84c9-bffb0e962d25",
   "metadata": {},
   "outputs": [
    {
     "data": {
      "text/plain": [
       "DataFrame[match_id: string, player_gamertag: string, player_total_kills: string, player_total_deaths: string]"
      ]
     },
     "execution_count": 48,
     "metadata": {},
     "output_type": "execute_result"
    }
   ],
   "source": [
    "match_details.unpersist()"
   ]
  },
  {
   "cell_type": "code",
   "execution_count": 49,
   "id": "9d234c61-b40d-4c3e-ab79-d31599c27834",
   "metadata": {},
   "outputs": [],
   "source": [
    "# Load medaL_matches_players\n",
    "medals_matches_players = spark.read.option(\n",
    "    \"header\", \"true\"\n",
    ").csv(\n",
    "    \"/home/iceberg/data/medals_matches_players.csv\"\n",
    ")"
   ]
  },
  {
   "cell_type": "code",
   "execution_count": 50,
   "id": "9cc33a5d-9851-4b36-b22d-eb45ebaec7d2",
   "metadata": {},
   "outputs": [
    {
     "data": {
      "text/plain": [
       "DataFrame[]"
      ]
     },
     "execution_count": 50,
     "metadata": {},
     "output_type": "execute_result"
    }
   ],
   "source": [
    "# Bucketed medal_matches_players\n",
    "spark.sql(\"\"\"DROP TABLE IF EXISTS bootcamp.hw2_medal_matches_players\"\"\")\n",
    "ddl_query_match_details = \"\"\"\n",
    "CREATE TABLE IF NOT EXISTS bootcamp.hw2_medal_matches_players (\n",
    "    match_id STRING,\n",
    "    player_gamertag STRING,\n",
    "    medal_id STRING,\n",
    "    count STRING\n",
    ")\n",
    "USING iceberg\n",
    "PARTITIONED BY (bucket(16, match_id));\n",
    "\"\"\"\n",
    "spark.sql(ddl_query_match_details)"
   ]
  },
  {
   "cell_type": "code",
   "execution_count": 51,
   "id": "e08ee32d-4c45-4519-853f-7a52b7d27654",
   "metadata": {},
   "outputs": [
    {
     "name": "stderr",
     "output_type": "stream",
     "text": [
      "                                                                                \r"
     ]
    }
   ],
   "source": [
    "medals_matches_players.write.mode(\n",
    "    'overwrite'\n",
    ").bucketBy(\n",
    "    16,\n",
    "    'match_id'\n",
    ").saveAsTable('bootcamp.hw2_medal_matches_players')"
   ]
  },
  {
   "cell_type": "code",
   "execution_count": 52,
   "id": "7bf15721-6086-42da-8663-16da22460a9a",
   "metadata": {},
   "outputs": [
    {
     "data": {
      "text/plain": [
       "DataFrame[match_id: string, player_gamertag: string, medal_id: string, count: string]"
      ]
     },
     "execution_count": 52,
     "metadata": {},
     "output_type": "execute_result"
    }
   ],
   "source": [
    "medals_matches_players.unpersist()"
   ]
  },
  {
   "cell_type": "code",
   "execution_count": 58,
   "id": "901ae34b-62ab-45d0-b7bd-2581aa7510d8",
   "metadata": {},
   "outputs": [],
   "source": [
    "df_results = spark.sql(\"\"\"\n",
    "    SELECT\n",
    "        m.match_id,\n",
    "        m.is_team_game,\n",
    "        m.playlist_id,\n",
    "        m.completion_date,\n",
    "        m.mapid,\n",
    "        md.player_gamertag,\n",
    "        md.player_total_kills,\n",
    "        md.player_total_deaths,\n",
    "        mm.player_gamertag AS medal_player_gametag,\n",
    "        mm.medal_id,\n",
    "        mm.count\n",
    "    FROM bootcamp.hw2_matches_bucketed m\n",
    "    INNER JOIN bootcamp.hw2_match_details_bucketed md\n",
    "    ON m.match_id = md.match_id\n",
    "    INNER JOIN bootcamp.hw2_medal_matches_players mm\n",
    "    ON m.match_id = mm.match_id\n",
    "\"\"\")"
   ]
  },
  {
   "cell_type": "code",
   "execution_count": 59,
   "id": "7976ae44-297f-4cfb-b92e-c18d59e7329c",
   "metadata": {},
   "outputs": [
    {
     "name": "stderr",
     "output_type": "stream",
     "text": [
      "[Stage 155:==============>                                          (1 + 3) / 4]\r"
     ]
    },
    {
     "name": "stdout",
     "output_type": "stream",
     "text": [
      "+--------------------+------------+--------------------+-------------------+--------------------+---------------+------------------+-------------------+--------------------+----------+-----+\n",
      "|            match_id|is_team_game|         playlist_id|    completion_date|               mapid|player_gamertag|player_total_kills|player_total_deaths|medal_player_gametag|  medal_id|count|\n",
      "+--------------------+------------+--------------------+-------------------+--------------------+---------------+------------------+-------------------+--------------------+----------+-----+\n",
      "|00169217-cca6-4b4...|        true|2323b76a-db98-4e0...|2016-03-13 00:00:00|cc040aa1-f206-11e...|  King Terror V|                14|                  7|       King Terror V|3261908037|   11|\n",
      "|00169217-cca6-4b4...|        true|2323b76a-db98-4e0...|2016-03-13 00:00:00|cc040aa1-f206-11e...|  King Terror V|                14|                  7|       King Terror V|3001183151|    1|\n",
      "|00169217-cca6-4b4...|        true|2323b76a-db98-4e0...|2016-03-13 00:00:00|cc040aa1-f206-11e...|  King Terror V|                14|                  7|       King Terror V| 824733727|    3|\n",
      "|00169217-cca6-4b4...|        true|2323b76a-db98-4e0...|2016-03-13 00:00:00|cc040aa1-f206-11e...|  King Terror V|                14|                  7|       King Terror V|2078758684|    3|\n",
      "|00169217-cca6-4b4...|        true|2323b76a-db98-4e0...|2016-03-13 00:00:00|cc040aa1-f206-11e...|  King Terror V|                14|                  7|       King Terror V|2430242797|    1|\n",
      "|00169217-cca6-4b4...|        true|2323b76a-db98-4e0...|2016-03-13 00:00:00|cc040aa1-f206-11e...|  King Terror V|                14|                  7|       King Terror V| 466059351|    1|\n",
      "|00169217-cca6-4b4...|        true|2323b76a-db98-4e0...|2016-03-13 00:00:00|cc040aa1-f206-11e...|  King Terror V|                14|                  7|       King Terror V|2782465081|    2|\n",
      "|00169217-cca6-4b4...|        true|2323b76a-db98-4e0...|2016-03-13 00:00:00|cc040aa1-f206-11e...|  King Terror V|                14|                  7|       King Terror V|2287626681|    1|\n",
      "|00169217-cca6-4b4...|        true|2323b76a-db98-4e0...|2016-03-13 00:00:00|cc040aa1-f206-11e...|  King Terror V|                14|                  7|           King Sope|2782465081|    2|\n",
      "|00169217-cca6-4b4...|        true|2323b76a-db98-4e0...|2016-03-13 00:00:00|cc040aa1-f206-11e...|  King Terror V|                14|                  7|           King Sope|3261908037|   10|\n",
      "|00169217-cca6-4b4...|        true|2323b76a-db98-4e0...|2016-03-13 00:00:00|cc040aa1-f206-11e...|  King Terror V|                14|                  7|           King Sope|2287626681|    1|\n",
      "|00169217-cca6-4b4...|        true|2323b76a-db98-4e0...|2016-03-13 00:00:00|cc040aa1-f206-11e...|  King Terror V|                14|                  7|           King Sope|2078758684|    1|\n",
      "|00169217-cca6-4b4...|        true|2323b76a-db98-4e0...|2016-03-13 00:00:00|cc040aa1-f206-11e...|  King Terror V|                14|                  7|           King Sope| 824733727|    1|\n",
      "|00169217-cca6-4b4...|        true|2323b76a-db98-4e0...|2016-03-13 00:00:00|cc040aa1-f206-11e...|  King Terror V|                14|                  7|            mcnaeric|3261908037|    9|\n",
      "|00169217-cca6-4b4...|        true|2323b76a-db98-4e0...|2016-03-13 00:00:00|cc040aa1-f206-11e...|  King Terror V|                14|                  7|            mcnaeric|2782465081|    1|\n",
      "|00169217-cca6-4b4...|        true|2323b76a-db98-4e0...|2016-03-13 00:00:00|cc040aa1-f206-11e...|  King Terror V|                14|                  7|            mcnaeric|2078758684|    1|\n",
      "|00169217-cca6-4b4...|        true|2323b76a-db98-4e0...|2016-03-13 00:00:00|cc040aa1-f206-11e...|  King Terror V|                14|                  7|         EXTREMENOVA|2287626681|    1|\n",
      "|00169217-cca6-4b4...|        true|2323b76a-db98-4e0...|2016-03-13 00:00:00|cc040aa1-f206-11e...|  King Terror V|                14|                  7|         EXTREMENOVA|3261908037|    6|\n",
      "|00169217-cca6-4b4...|        true|2323b76a-db98-4e0...|2016-03-13 00:00:00|cc040aa1-f206-11e...|  King Terror V|                14|                  7|         EXTREMENOVA|2782465081|    1|\n",
      "|00169217-cca6-4b4...|        true|2323b76a-db98-4e0...|2016-03-13 00:00:00|cc040aa1-f206-11e...|  King Terror V|                14|                  7|         EXTREMENOVA| 250435527|    1|\n",
      "+--------------------+------------+--------------------+-------------------+--------------------+---------------+------------------+-------------------+--------------------+----------+-----+\n",
      "only showing top 20 rows\n",
      "\n"
     ]
    },
    {
     "name": "stderr",
     "output_type": "stream",
     "text": [
      "                                                                                \r"
     ]
    }
   ],
   "source": [
    "df_results.show()"
   ]
  },
  {
   "cell_type": "code",
   "execution_count": 60,
   "id": "326878b8-ff31-42d6-838b-d57fe1fb9b38",
   "metadata": {},
   "outputs": [
    {
     "name": "stderr",
     "output_type": "stream",
     "text": [
      "[Stage 166:================================================>        (6 + 1) / 7]\r"
     ]
    },
    {
     "name": "stdout",
     "output_type": "stream",
     "text": [
      "+---------------+---------+\n",
      "|player_gamertag|avg_kills|\n",
      "+---------------+---------+\n",
      "|   gimpinator14|    109.0|\n",
      "+---------------+---------+\n",
      "\n",
      "None\n"
     ]
    },
    {
     "name": "stderr",
     "output_type": "stream",
     "text": [
      "                                                                                \r"
     ]
    }
   ],
   "source": [
    "# Questions\n",
    "# Which player averages the most kills per game? gimpinator14\n",
    "df_kills = df_results.select(\n",
    "    'match_id',\n",
    "    'is_team_game',\n",
    "    'completion_date',\n",
    "    'player_gamertag',\n",
    "    'player_total_kills',\n",
    "    'player_total_deaths'\n",
    ").dropDuplicates(\n",
    ").groupBy(\n",
    "    'player_gamertag'\n",
    ").agg(\n",
    "    f.avg(f.col('player_total_kills')).alias('avg_kills')\n",
    ").orderBy(\n",
    "    'avg_kills',\n",
    "    ascending=False\n",
    ").limit(1)\n",
    "print(df_kills.show())"
   ]
  },
  {
   "cell_type": "code",
   "execution_count": 61,
   "id": "257cfc20-9bd9-4259-893e-ca6b9be208b9",
   "metadata": {},
   "outputs": [
    {
     "name": "stderr",
     "output_type": "stream",
     "text": [
      "[Stage 178:======================================>                  (2 + 1) / 3]\r"
     ]
    },
    {
     "name": "stdout",
     "output_type": "stream",
     "text": [
      "+------------------------------------+-----+\n",
      "|playlist_id                         |count|\n",
      "+------------------------------------+-----+\n",
      "|f72e0ef0-7c4a-4307-af78-8e38dac3fdba|7640 |\n",
      "+------------------------------------+-----+\n",
      "\n",
      "None\n"
     ]
    },
    {
     "name": "stderr",
     "output_type": "stream",
     "text": [
      "                                                                                \r"
     ]
    }
   ],
   "source": [
    "# Which playlist gets played the most? f72e0ef0-7c4a-4307-af78-8e38dac3fdba\n",
    "df_playlists = df_results.select(\n",
    "    'playlist_id',\n",
    "    'match_id',\n",
    ").dropDuplicates(\n",
    ").groupBy(\n",
    "    'playlist_id'\n",
    ").count(\n",
    ").orderBy(\n",
    "    'count',\n",
    "    ascending=False\n",
    ").limit(1)\n",
    "\n",
    "print(df_playlists.show(truncate=False))"
   ]
  },
  {
   "cell_type": "code",
   "execution_count": 62,
   "id": "054c4d32-c453-4956-b946-92f96e6aa527",
   "metadata": {},
   "outputs": [
    {
     "name": "stderr",
     "output_type": "stream",
     "text": [
      "[Stage 190:>                                                        (0 + 3) / 3]\r"
     ]
    },
    {
     "name": "stdout",
     "output_type": "stream",
     "text": [
      "+------------------------------------+-----+\n",
      "|mapid                               |count|\n",
      "+------------------------------------+-----+\n",
      "|c7edbf0f-f206-11e4-aa52-24be05e24f7e|7032 |\n",
      "+------------------------------------+-----+\n",
      "\n",
      "None\n"
     ]
    },
    {
     "name": "stderr",
     "output_type": "stream",
     "text": [
      "                                                                                \r"
     ]
    }
   ],
   "source": [
    "# Which map gets played the most?\n",
    "# Which playlist gets played the most? f72e0ef0-7c4a-4307-af78-8e38dac3fdba\n",
    "df_maps = df_results.select(\n",
    "    'mapid',\n",
    "    'match_id',\n",
    ").dropDuplicates(\n",
    ").groupBy(\n",
    "    'mapid'\n",
    ").count(\n",
    ").orderBy(\n",
    "    'count',\n",
    "    ascending=False\n",
    ").limit(1)\n",
    "\n",
    "print(df_maps.show(truncate=False))"
   ]
  },
  {
   "cell_type": "code",
   "execution_count": 65,
   "id": "6f5b2303-7770-4c51-810f-4da4004482ed",
   "metadata": {},
   "outputs": [],
   "source": [
    "# Which map do players get the most Killing Spree medals on?\n",
    "# Load medals\n",
    "medals = spark.read.option(\n",
    "    \"header\", \"true\"\n",
    ").csv(\n",
    "    \"/home/iceberg/data/medals.csv\"\n",
    ").filter(\n",
    "    f.col('name').like('%Killing Spree%')\n",
    ")"
   ]
  },
  {
   "cell_type": "code",
   "execution_count": 66,
   "id": "595957e4-c207-4614-a535-640618dd0270",
   "metadata": {},
   "outputs": [
    {
     "name": "stdout",
     "output_type": "stream",
     "text": [
      "+----------+------------------------------------------------------------------------------------------------------------------------------+-----------+----------+------------------+-------------------+------------+-------------+--------------+-------------------------------+-------------+----------+\n",
      "|medal_id  |sprite_uri                                                                                                                    |sprite_left|sprite_top|sprite_sheet_width|sprite_sheet_height|sprite_width|sprite_height|classification|description                    |name         |difficulty|\n",
      "+----------+------------------------------------------------------------------------------------------------------------------------------+-----------+----------+------------------+-------------------+------------+-------------+--------------+-------------------------------+-------------+----------+\n",
      "|2430242797|https://content.halocdn.com/media/Default/games/halo-5-guardians/sprites/medalspritesheet-be288ea5c0994a4e9d36f43aee7bc631.png|675        |300       |74                |74                 |1125        |899          |KillingSpree  |Kill 5 opponents without dying.|Killing Spree|45        |\n",
      "+----------+------------------------------------------------------------------------------------------------------------------------------+-----------+----------+------------------+-------------------+------------+-------------+--------------+-------------------------------+-------------+----------+\n",
      "\n"
     ]
    }
   ],
   "source": [
    "medals.show(truncate=False)"
   ]
  },
  {
   "cell_type": "code",
   "execution_count": 73,
   "id": "51da02ac-f65a-4cdb-93d5-79348742ccb4",
   "metadata": {},
   "outputs": [],
   "source": [
    "df_kp = df_results.select(\n",
    "    'mapid',\n",
    "    'medal_id',\n",
    "    'count'\n",
    ").join(\n",
    "    medals,\n",
    "    on='medal_id',\n",
    "    how='inner'\n",
    ").groupBy(\n",
    "    'mapid'\n",
    ").agg(\n",
    "    f.sum('count').alias('medal_count')\n",
    ").orderBy(\n",
    "    'medal_count',\n",
    "    ascending=False\n",
    ").limit(1)"
   ]
  },
  {
   "cell_type": "code",
   "execution_count": 74,
   "id": "a64a7e35-b749-43e9-bb7b-9c22ad6d4342",
   "metadata": {},
   "outputs": [
    {
     "name": "stderr",
     "output_type": "stream",
     "text": [
      "25/07/16 15:49:39 WARN RowBasedKeyValueBatch: Calling spill() on RowBasedKeyValueBatch. Will not spill but return 0.\n",
      "25/07/16 15:49:39 WARN RowBasedKeyValueBatch: Calling spill() on RowBasedKeyValueBatch. Will not spill but return 0.\n",
      "25/07/16 15:49:39 WARN RowBasedKeyValueBatch: Calling spill() on RowBasedKeyValueBatch. Will not spill but return 0.\n",
      "25/07/16 15:49:39 WARN RowBasedKeyValueBatch: Calling spill() on RowBasedKeyValueBatch. Will not spill but return 0.\n",
      "25/07/16 15:49:39 WARN RowBasedKeyValueBatch: Calling spill() on RowBasedKeyValueBatch. Will not spill but return 0.\n",
      "25/07/16 15:49:39 WARN RowBasedKeyValueBatch: Calling spill() on RowBasedKeyValueBatch. Will not spill but return 0.\n",
      "25/07/16 15:49:39 WARN RowBasedKeyValueBatch: Calling spill() on RowBasedKeyValueBatch. Will not spill but return 0.\n",
      "25/07/16 15:49:39 WARN RowBasedKeyValueBatch: Calling spill() on RowBasedKeyValueBatch. Will not spill but return 0.\n",
      "25/07/16 15:49:40 WARN RowBasedKeyValueBatch: Calling spill() on RowBasedKeyValueBatch. Will not spill but return 0.\n",
      "25/07/16 15:49:40 WARN RowBasedKeyValueBatch: Calling spill() on RowBasedKeyValueBatch. Will not spill but return 0.\n",
      "25/07/16 15:49:40 WARN RowBasedKeyValueBatch: Calling spill() on RowBasedKeyValueBatch. Will not spill but return 0.\n",
      "25/07/16 15:49:40 WARN RowBasedKeyValueBatch: Calling spill() on RowBasedKeyValueBatch. Will not spill but return 0.\n",
      "25/07/16 15:49:40 WARN RowBasedKeyValueBatch: Calling spill() on RowBasedKeyValueBatch. Will not spill but return 0.\n",
      "[Stage 276:==========================================>              (6 + 2) / 8]\r"
     ]
    },
    {
     "name": "stdout",
     "output_type": "stream",
     "text": [
      "+------------------------------------+-----------+\n",
      "|mapid                               |medal_count|\n",
      "+------------------------------------+-----------+\n",
      "|c74c9d0f-f206-11e4-8330-24be05e24f7e|71863.0    |\n",
      "+------------------------------------+-----------+\n",
      "\n"
     ]
    },
    {
     "name": "stderr",
     "output_type": "stream",
     "text": [
      "                                                                                \r"
     ]
    }
   ],
   "source": [
    "df_kp.show(truncate=False)"
   ]
  },
  {
   "cell_type": "code",
   "execution_count": 102,
   "id": "b25e2929-a6fc-48bb-bfd5-d588cf99ffc5",
   "metadata": {},
   "outputs": [
    {
     "name": "stderr",
     "output_type": "stream",
     "text": [
      "                                                                                \r"
     ]
    },
    {
     "name": "stdout",
     "output_type": "stream",
     "text": [
      "+-----------------------+\n",
      "|sum(file_size_in_bytes)|\n",
      "+-----------------------+\n",
      "|                 591839|\n",
      "+-----------------------+\n",
      "\n"
     ]
    },
    {
     "name": "stderr",
     "output_type": "stream",
     "text": [
      "                                                                                \r"
     ]
    },
    {
     "name": "stdout",
     "output_type": "stream",
     "text": [
      "+---------------+---------+\n",
      "|player_gamertag|avg_kills|\n",
      "+---------------+---------+\n",
      "|   gimpinator14|    109.0|\n",
      "+---------------+---------+\n",
      "\n",
      "None\n"
     ]
    },
    {
     "name": "stderr",
     "output_type": "stream",
     "text": [
      "                                                                                \r"
     ]
    },
    {
     "name": "stdout",
     "output_type": "stream",
     "text": [
      "+------------------------------------+-----+\n",
      "|playlist_id                         |count|\n",
      "+------------------------------------+-----+\n",
      "|f72e0ef0-7c4a-4307-af78-8e38dac3fdba|7640 |\n",
      "+------------------------------------+-----+\n",
      "\n",
      "None\n"
     ]
    },
    {
     "name": "stderr",
     "output_type": "stream",
     "text": [
      "                                                                                \r"
     ]
    },
    {
     "name": "stdout",
     "output_type": "stream",
     "text": [
      "+------------------------------------+-----+\n",
      "|mapid                               |count|\n",
      "+------------------------------------+-----+\n",
      "|c7edbf0f-f206-11e4-aa52-24be05e24f7e|7032 |\n",
      "+------------------------------------+-----+\n",
      "\n",
      "None\n"
     ]
    },
    {
     "name": "stderr",
     "output_type": "stream",
     "text": [
      "25/07/16 16:07:11 WARN RowBasedKeyValueBatch: Calling spill() on RowBasedKeyValueBatch. Will not spill but return 0.\n",
      "25/07/16 16:07:11 WARN RowBasedKeyValueBatch: Calling spill() on RowBasedKeyValueBatch. Will not spill but return 0.\n",
      "25/07/16 16:07:11 WARN RowBasedKeyValueBatch: Calling spill() on RowBasedKeyValueBatch. Will not spill but return 0.\n",
      "25/07/16 16:07:11 WARN RowBasedKeyValueBatch: Calling spill() on RowBasedKeyValueBatch. Will not spill but return 0.\n",
      "25/07/16 16:07:11 WARN RowBasedKeyValueBatch: Calling spill() on RowBasedKeyValueBatch. Will not spill but return 0.\n",
      "25/07/16 16:07:11 WARN RowBasedKeyValueBatch: Calling spill() on RowBasedKeyValueBatch. Will not spill but return 0.\n",
      "25/07/16 16:07:11 WARN RowBasedKeyValueBatch: Calling spill() on RowBasedKeyValueBatch. Will not spill but return 0.\n",
      "25/07/16 16:07:11 WARN RowBasedKeyValueBatch: Calling spill() on RowBasedKeyValueBatch. Will not spill but return 0.\n",
      "25/07/16 16:07:11 WARN RowBasedKeyValueBatch: Calling spill() on RowBasedKeyValueBatch. Will not spill but return 0.\n",
      "25/07/16 16:07:11 WARN RowBasedKeyValueBatch: Calling spill() on RowBasedKeyValueBatch. Will not spill but return 0.\n",
      "25/07/16 16:07:11 WARN RowBasedKeyValueBatch: Calling spill() on RowBasedKeyValueBatch. Will not spill but return 0.\n",
      "[Stage 373:===================================>                     (5 + 3) / 8]\r"
     ]
    },
    {
     "name": "stdout",
     "output_type": "stream",
     "text": [
      "+------------------------------------+-----------+\n",
      "|mapid                               |medal_count|\n",
      "+------------------------------------+-----------+\n",
      "|c74c9d0f-f206-11e4-8330-24be05e24f7e|71863.0    |\n",
      "+------------------------------------+-----------+\n",
      "\n",
      "None\n"
     ]
    },
    {
     "name": "stderr",
     "output_type": "stream",
     "text": [
      "                                                                                \r"
     ]
    }
   ],
   "source": []
  }
 ],
 "metadata": {
  "kernelspec": {
   "display_name": "Python 3 (ipykernel)",
   "language": "python",
   "name": "python3"
  },
  "language_info": {
   "codemirror_mode": {
    "name": "ipython",
    "version": 3
   },
   "file_extension": ".py",
   "mimetype": "text/x-python",
   "name": "python",
   "nbconvert_exporter": "python",
   "pygments_lexer": "ipython3",
   "version": "3.9.18"
  }
 },
 "nbformat": 4,
 "nbformat_minor": 5
}
